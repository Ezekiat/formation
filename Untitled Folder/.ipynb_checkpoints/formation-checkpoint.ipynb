{
 "cells": [
  {
   "cell_type": "code",
   "execution_count": 12,
   "id": "37347edf-d2e1-4e6a-a924-d309da0a4449",
   "metadata": {},
   "outputs": [
    {
     "data": {
      "text/html": [
       "<div>\n",
       "<style scoped>\n",
       "    .dataframe tbody tr th:only-of-type {\n",
       "        vertical-align: middle;\n",
       "    }\n",
       "\n",
       "    .dataframe tbody tr th {\n",
       "        vertical-align: top;\n",
       "    }\n",
       "\n",
       "    .dataframe thead th {\n",
       "        text-align: right;\n",
       "    }\n",
       "</style>\n",
       "<table border=\"1\" class=\"dataframe\">\n",
       "  <thead>\n",
       "    <tr style=\"text-align: right;\">\n",
       "      <th></th>\n",
       "      <th>JX7IRVUYL1DRJQXK</th>\n",
       "      <th>2018-02-01</th>\n",
       "      <th>Jerilyn</th>\n",
       "      <th>Brewer</th>\n",
       "      <th>joelle.beals52463@craft.com</th>\n",
       "    </tr>\n",
       "  </thead>\n",
       "  <tbody>\n",
       "    <tr>\n",
       "      <th>0</th>\n",
       "      <td>Q7KV21SUGSQQV2CX</td>\n",
       "      <td>2012-07-12</td>\n",
       "      <td>Diedra</td>\n",
       "      <td>Bone</td>\n",
       "      <td>berna.lombardi@hotmail.com</td>\n",
       "    </tr>\n",
       "    <tr>\n",
       "      <th>1</th>\n",
       "      <td>ZYXAZRQ73SN5AAZ9</td>\n",
       "      <td>1984-01-19</td>\n",
       "      <td>Kami</td>\n",
       "      <td>Folk</td>\n",
       "      <td>lavenia_sparks7017@borders.游戏</td>\n",
       "    </tr>\n",
       "    <tr>\n",
       "      <th>2</th>\n",
       "      <td>HYUR33ZV7HN244CI</td>\n",
       "      <td>2018-05-06</td>\n",
       "      <td>Kevin</td>\n",
       "      <td>Robles</td>\n",
       "      <td>virgen.weddle20@mn.com</td>\n",
       "    </tr>\n",
       "    <tr>\n",
       "      <th>3</th>\n",
       "      <td>UK5U6BHAXVUSTMV8</td>\n",
       "      <td>1974-08-07</td>\n",
       "      <td>Aletha</td>\n",
       "      <td>Mckenna-Forest</td>\n",
       "      <td>elia535@yahoo.com</td>\n",
       "    </tr>\n",
       "    <tr>\n",
       "      <th>4</th>\n",
       "      <td>1TE09QQJAGIQE6A8</td>\n",
       "      <td>1984-10-09</td>\n",
       "      <td>Warren</td>\n",
       "      <td>Weatherly</td>\n",
       "      <td>mistie9845@beans.com</td>\n",
       "    </tr>\n",
       "  </tbody>\n",
       "</table>\n",
       "</div>"
      ],
      "text/plain": [
       "   JX7IRVUYL1DRJQXK  2018-02-01 Jerilyn          Brewer  \\\n",
       "0  Q7KV21SUGSQQV2CX  2012-07-12  Diedra            Bone   \n",
       "1  ZYXAZRQ73SN5AAZ9  1984-01-19    Kami            Folk   \n",
       "2  HYUR33ZV7HN244CI  2018-05-06   Kevin          Robles   \n",
       "3  UK5U6BHAXVUSTMV8  1974-08-07  Aletha  Mckenna-Forest   \n",
       "4  1TE09QQJAGIQE6A8  1984-10-09  Warren       Weatherly   \n",
       "\n",
       "     joelle.beals52463@craft.com  \n",
       "0     berna.lombardi@hotmail.com  \n",
       "1  lavenia_sparks7017@borders.游戏  \n",
       "2         virgen.weddle20@mn.com  \n",
       "3              elia535@yahoo.com  \n",
       "4           mistie9845@beans.com  "
      ]
     },
     "execution_count": 12,
     "metadata": {},
     "output_type": "execute_result"
    }
   ],
   "source": [
    "import pandas as pd\n",
    "df = pd.read_csv('./file-coderstool.csv')\n",
    "df.head()"
   ]
  },
  {
   "cell_type": "code",
   "execution_count": 13,
   "id": "1f566bb7-16f3-450b-984f-0bb8e978a911",
   "metadata": {},
   "outputs": [
    {
     "data": {
      "text/html": [
       "<div>\n",
       "<style scoped>\n",
       "    .dataframe tbody tr th:only-of-type {\n",
       "        vertical-align: middle;\n",
       "    }\n",
       "\n",
       "    .dataframe tbody tr th {\n",
       "        vertical-align: top;\n",
       "    }\n",
       "\n",
       "    .dataframe thead th {\n",
       "        text-align: right;\n",
       "    }\n",
       "</style>\n",
       "<table border=\"1\" class=\"dataframe\">\n",
       "  <thead>\n",
       "    <tr style=\"text-align: right;\">\n",
       "      <th></th>\n",
       "      <th>JX7IRVUYL1DRJQXK</th>\n",
       "      <th>2018-02-01</th>\n",
       "      <th>Jerilyn</th>\n",
       "      <th>Brewer</th>\n",
       "      <th>joelle.beals52463@craft.com</th>\n",
       "    </tr>\n",
       "  </thead>\n",
       "  <tbody>\n",
       "    <tr>\n",
       "      <th>count</th>\n",
       "      <td>9</td>\n",
       "      <td>9</td>\n",
       "      <td>9</td>\n",
       "      <td>9</td>\n",
       "      <td>9</td>\n",
       "    </tr>\n",
       "    <tr>\n",
       "      <th>unique</th>\n",
       "      <td>9</td>\n",
       "      <td>9</td>\n",
       "      <td>9</td>\n",
       "      <td>9</td>\n",
       "      <td>9</td>\n",
       "    </tr>\n",
       "    <tr>\n",
       "      <th>top</th>\n",
       "      <td>Q7KV21SUGSQQV2CX</td>\n",
       "      <td>2012-07-12</td>\n",
       "      <td>Diedra</td>\n",
       "      <td>Bone</td>\n",
       "      <td>berna.lombardi@hotmail.com</td>\n",
       "    </tr>\n",
       "    <tr>\n",
       "      <th>freq</th>\n",
       "      <td>1</td>\n",
       "      <td>1</td>\n",
       "      <td>1</td>\n",
       "      <td>1</td>\n",
       "      <td>1</td>\n",
       "    </tr>\n",
       "  </tbody>\n",
       "</table>\n",
       "</div>"
      ],
      "text/plain": [
       "        JX7IRVUYL1DRJQXK  2018-02-01 Jerilyn Brewer  \\\n",
       "count                  9           9       9      9   \n",
       "unique                 9           9       9      9   \n",
       "top     Q7KV21SUGSQQV2CX  2012-07-12  Diedra   Bone   \n",
       "freq                   1           1       1      1   \n",
       "\n",
       "       joelle.beals52463@craft.com  \n",
       "count                            9  \n",
       "unique                           9  \n",
       "top     berna.lombardi@hotmail.com  \n",
       "freq                             1  "
      ]
     },
     "execution_count": 13,
     "metadata": {},
     "output_type": "execute_result"
    }
   ],
   "source": [
    "df.describe()"
   ]
  },
  {
   "cell_type": "code",
   "execution_count": 14,
   "id": "56194c44-9834-42ca-a25a-4997f6207fbc",
   "metadata": {},
   "outputs": [
    {
     "name": "stdout",
     "output_type": "stream",
     "text": [
      "0              Bone\n",
      "1              Folk\n",
      "2            Robles\n",
      "3    Mckenna-Forest\n",
      "4         Weatherly\n",
      "5      Buie-Perales\n",
      "6       Keith-Oliva\n",
      "7            Delong\n",
      "8         Galbraith\n",
      "Name: Brewer, dtype: object\n"
     ]
    }
   ],
   "source": [
    "print(df['Brewer'])"
   ]
  },
  {
   "cell_type": "code",
   "execution_count": null,
   "id": "bfa44ea6-5e68-4896-9599-7d354c851bee",
   "metadata": {},
   "outputs": [],
   "source": [
    "#test"
   ]
  }
 ],
 "metadata": {
  "kernelspec": {
   "display_name": "Python 3 (ipykernel)",
   "language": "python",
   "name": "python3"
  },
  "language_info": {
   "codemirror_mode": {
    "name": "ipython",
    "version": 3
   },
   "file_extension": ".py",
   "mimetype": "text/x-python",
   "name": "python",
   "nbconvert_exporter": "python",
   "pygments_lexer": "ipython3",
   "version": "3.12.7"
  }
 },
 "nbformat": 4,
 "nbformat_minor": 5
}
