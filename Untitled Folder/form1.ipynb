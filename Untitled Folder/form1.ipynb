{
 "cells": [
  {
   "cell_type": "code",
   "execution_count": 1,
   "id": "c2ef68aa-0aa6-48d8-8468-23038d78125c",
   "metadata": {},
   "outputs": [],
   "source": [
    "import pandas as pd\n",
    "import numpy as np\n",
    "import matplotlib.pyplot as plt"
   ]
  },
  {
   "cell_type": "code",
   "execution_count": 2,
   "id": "8c903ac6-0cf8-4fa0-a1d8-1f7d4c8fd138",
   "metadata": {},
   "outputs": [],
   "source": [
    "df= pd.read_csv('../event_data_pse.csv')"
   ]
  },
  {
   "cell_type": "code",
   "execution_count": 3,
   "id": "6120ed1d-a225-4f26-83de-a7920c438cfd",
   "metadata": {},
   "outputs": [
    {
     "data": {
      "text/plain": [
       "Index(['id', 'country', 'iso3', 'latitude', 'longitude', 'centroid', 'role',\n",
       "       'displacement_type', 'qualifier', 'figure', 'displacement_date',\n",
       "       'displacement_start_date', 'displacement_end_date', 'year', 'event_id',\n",
       "       'event_name', 'event_codes', 'event_code_types', 'event_start_date',\n",
       "       'event_end_date', 'category', 'subcategory', 'type', 'subtype',\n",
       "       'old_id', 'sources', 'source_url', 'locations_name',\n",
       "       'locations_coordinates', 'locations_accuracy', 'locations_type',\n",
       "       'displacement_occurred', 'created_at', 'description', 'link',\n",
       "       'combined_type'],\n",
       "      dtype='object')"
      ]
     },
     "execution_count": 3,
     "metadata": {},
     "output_type": "execute_result"
    }
   ],
   "source": [
    "#affcher les colonnes\n",
    "df.columns"
   ]
  },
  {
   "cell_type": "code",
   "execution_count": 4,
   "id": "6786f0b7-ad6e-406f-bdce-4757bae570ca",
   "metadata": {},
   "outputs": [
    {
     "name": "stdout",
     "output_type": "stream",
     "text": [
      "<class 'pandas.core.frame.DataFrame'>\n",
      "RangeIndex: 47 entries, 0 to 46\n",
      "Data columns (total 36 columns):\n",
      " #   Column                   Non-Null Count  Dtype  \n",
      "---  ------                   --------------  -----  \n",
      " 0   id                       46 non-null     float64\n",
      " 1   country                  47 non-null     object \n",
      " 2   iso3                     47 non-null     object \n",
      " 3   latitude                 47 non-null     object \n",
      " 4   longitude                47 non-null     object \n",
      " 5   centroid                 46 non-null     object \n",
      " 6   role                     46 non-null     object \n",
      " 7   displacement_type        47 non-null     object \n",
      " 8   qualifier                47 non-null     object \n",
      " 9   figure                   47 non-null     object \n",
      " 10  displacement_date        47 non-null     object \n",
      " 11  displacement_start_date  47 non-null     object \n",
      " 12  displacement_end_date    47 non-null     object \n",
      " 13  year                     47 non-null     object \n",
      " 14  event_id                 46 non-null     float64\n",
      " 15  event_name               47 non-null     object \n",
      " 16  event_codes              0 non-null      float64\n",
      " 17  event_code_types         0 non-null      float64\n",
      " 18  event_start_date         47 non-null     object \n",
      " 19  event_end_date           47 non-null     object \n",
      " 20  category                 0 non-null      float64\n",
      " 21  subcategory              0 non-null      float64\n",
      " 22  type                     1 non-null      object \n",
      " 23  subtype                  1 non-null      object \n",
      " 24  old_id                   0 non-null      float64\n",
      " 25  sources                  46 non-null     object \n",
      " 26  source_url               46 non-null     object \n",
      " 27  locations_name           46 non-null     object \n",
      " 28  locations_coordinates    46 non-null     object \n",
      " 29  locations_accuracy       46 non-null     object \n",
      " 30  locations_type           46 non-null     object \n",
      " 31  displacement_occurred    35 non-null     object \n",
      " 32  created_at               47 non-null     object \n",
      " 33  description              47 non-null     object \n",
      " 34  link                     47 non-null     object \n",
      " 35  combined_type            47 non-null     object \n",
      "dtypes: float64(7), object(29)\n",
      "memory usage: 13.3+ KB\n"
     ]
    }
   ],
   "source": [
    "#afficher les info des donnés\n",
    "df.info()"
   ]
  },
  {
   "cell_type": "code",
   "execution_count": 5,
   "id": "cd496637-652e-4db9-bd20-015d8f108e28",
   "metadata": {},
   "outputs": [
    {
     "data": {
      "text/html": [
       "<div>\n",
       "<style scoped>\n",
       "    .dataframe tbody tr th:only-of-type {\n",
       "        vertical-align: middle;\n",
       "    }\n",
       "\n",
       "    .dataframe tbody tr th {\n",
       "        vertical-align: top;\n",
       "    }\n",
       "\n",
       "    .dataframe thead th {\n",
       "        text-align: right;\n",
       "    }\n",
       "</style>\n",
       "<table border=\"1\" class=\"dataframe\">\n",
       "  <thead>\n",
       "    <tr style=\"text-align: right;\">\n",
       "      <th></th>\n",
       "      <th>id</th>\n",
       "      <th>country</th>\n",
       "      <th>iso3</th>\n",
       "      <th>latitude</th>\n",
       "      <th>longitude</th>\n",
       "      <th>centroid</th>\n",
       "      <th>role</th>\n",
       "      <th>displacement_type</th>\n",
       "      <th>qualifier</th>\n",
       "      <th>figure</th>\n",
       "      <th>...</th>\n",
       "      <th>source_url</th>\n",
       "      <th>locations_name</th>\n",
       "      <th>locations_coordinates</th>\n",
       "      <th>locations_accuracy</th>\n",
       "      <th>locations_type</th>\n",
       "      <th>displacement_occurred</th>\n",
       "      <th>created_at</th>\n",
       "      <th>description</th>\n",
       "      <th>link</th>\n",
       "      <th>combined_type</th>\n",
       "    </tr>\n",
       "  </thead>\n",
       "  <tbody>\n",
       "    <tr>\n",
       "      <th>0</th>\n",
       "      <td>NaN</td>\n",
       "      <td>#country+name</td>\n",
       "      <td>#country+iso3</td>\n",
       "      <td>#geo+lat</td>\n",
       "      <td>#geo+lon</td>\n",
       "      <td>NaN</td>\n",
       "      <td>NaN</td>\n",
       "      <td>#event+displacement_type</td>\n",
       "      <td>#total</td>\n",
       "      <td>#affected+displaced</td>\n",
       "      <td>...</td>\n",
       "      <td>NaN</td>\n",
       "      <td>NaN</td>\n",
       "      <td>NaN</td>\n",
       "      <td>NaN</td>\n",
       "      <td>NaN</td>\n",
       "      <td>NaN</td>\n",
       "      <td>#date+created</td>\n",
       "      <td>#description</td>\n",
       "      <td>#meta+url</td>\n",
       "      <td>#cause</td>\n",
       "    </tr>\n",
       "    <tr>\n",
       "      <th>1</th>\n",
       "      <td>187313.0</td>\n",
       "      <td>Palestine</td>\n",
       "      <td>PSE</td>\n",
       "      <td>31.43317</td>\n",
       "      <td>34.37793</td>\n",
       "      <td>[31.43317, 34.37793]</td>\n",
       "      <td>Recommended figure</td>\n",
       "      <td>Conflict</td>\n",
       "      <td>total</td>\n",
       "      <td>45553</td>\n",
       "      <td>...</td>\n",
       "      <td>https://www.cccmcluster.org/where-we-work/occu...</td>\n",
       "      <td>Gaza Strip, Palestinian Territories</td>\n",
       "      <td>31.43317, 34.37793</td>\n",
       "      <td>Point</td>\n",
       "      <td>Origin</td>\n",
       "      <td>Displacement without preventive evacuations re...</td>\n",
       "      <td>2025-07-10T14:33:49.278023Z</td>\n",
       "      <td>Palestine: 45,553 displacements, 18 June - 08 ...</td>\n",
       "      <td>https://www.cccmcluster.org/where-we-work/occu...</td>\n",
       "      <td>Conflict</td>\n",
       "    </tr>\n",
       "    <tr>\n",
       "      <th>2</th>\n",
       "      <td>185346.0</td>\n",
       "      <td>Palestine</td>\n",
       "      <td>PSE</td>\n",
       "      <td>31.43317</td>\n",
       "      <td>34.37793</td>\n",
       "      <td>[31.43317, 34.37793]</td>\n",
       "      <td>Recommended figure</td>\n",
       "      <td>Conflict</td>\n",
       "      <td>total</td>\n",
       "      <td>15311</td>\n",
       "      <td>...</td>\n",
       "      <td>https://www.cccmcluster.org/sites/default/file...</td>\n",
       "      <td>Gaza Strip,, Palestinian Territories</td>\n",
       "      <td>31.43317, 34.37793</td>\n",
       "      <td>Point</td>\n",
       "      <td>Origin</td>\n",
       "      <td>Displacement without preventive evacuations re...</td>\n",
       "      <td>2025-06-18T08:22:55.091978Z</td>\n",
       "      <td>Palestine: 15,311 displacements, 12 June - 17 ...</td>\n",
       "      <td>https://www.cccmcluster.org/sites/default/file...</td>\n",
       "      <td>Conflict</td>\n",
       "    </tr>\n",
       "    <tr>\n",
       "      <th>3</th>\n",
       "      <td>184788.0</td>\n",
       "      <td>Palestine</td>\n",
       "      <td>PSE</td>\n",
       "      <td>31.43317</td>\n",
       "      <td>34.37793</td>\n",
       "      <td>[31.43317, 34.37793]</td>\n",
       "      <td>Recommended figure</td>\n",
       "      <td>Conflict</td>\n",
       "      <td>total</td>\n",
       "      <td>24556</td>\n",
       "      <td>...</td>\n",
       "      <td>https://www.cccmcluster.org/sites/default/file...</td>\n",
       "      <td>Gaza Strip, Gaza Strip, Palestinian Territories</td>\n",
       "      <td>31.43317, 34.37793</td>\n",
       "      <td>Point</td>\n",
       "      <td>Origin</td>\n",
       "      <td>Displacement without preventive evacuations re...</td>\n",
       "      <td>2025-06-11T13:56:30.798439Z</td>\n",
       "      <td>Palestine: 24,556 displacements, 04 June - 11 ...</td>\n",
       "      <td>https://www.cccmcluster.org/sites/default/file...</td>\n",
       "      <td>Conflict</td>\n",
       "    </tr>\n",
       "  </tbody>\n",
       "</table>\n",
       "<p>4 rows × 36 columns</p>\n",
       "</div>"
      ],
      "text/plain": [
       "         id        country           iso3  latitude longitude  \\\n",
       "0       NaN  #country+name  #country+iso3  #geo+lat  #geo+lon   \n",
       "1  187313.0      Palestine            PSE  31.43317  34.37793   \n",
       "2  185346.0      Palestine            PSE  31.43317  34.37793   \n",
       "3  184788.0      Palestine            PSE  31.43317  34.37793   \n",
       "\n",
       "               centroid                role         displacement_type  \\\n",
       "0                   NaN                 NaN  #event+displacement_type   \n",
       "1  [31.43317, 34.37793]  Recommended figure                  Conflict   \n",
       "2  [31.43317, 34.37793]  Recommended figure                  Conflict   \n",
       "3  [31.43317, 34.37793]  Recommended figure                  Conflict   \n",
       "\n",
       "  qualifier               figure  ...  \\\n",
       "0    #total  #affected+displaced  ...   \n",
       "1     total                45553  ...   \n",
       "2     total                15311  ...   \n",
       "3     total                24556  ...   \n",
       "\n",
       "                                          source_url  \\\n",
       "0                                                NaN   \n",
       "1  https://www.cccmcluster.org/where-we-work/occu...   \n",
       "2  https://www.cccmcluster.org/sites/default/file...   \n",
       "3  https://www.cccmcluster.org/sites/default/file...   \n",
       "\n",
       "                                    locations_name locations_coordinates  \\\n",
       "0                                              NaN                   NaN   \n",
       "1              Gaza Strip, Palestinian Territories    31.43317, 34.37793   \n",
       "2             Gaza Strip,, Palestinian Territories    31.43317, 34.37793   \n",
       "3  Gaza Strip, Gaza Strip, Palestinian Territories    31.43317, 34.37793   \n",
       "\n",
       "  locations_accuracy  locations_type  \\\n",
       "0                NaN             NaN   \n",
       "1              Point          Origin   \n",
       "2              Point          Origin   \n",
       "3              Point          Origin   \n",
       "\n",
       "                               displacement_occurred  \\\n",
       "0                                                NaN   \n",
       "1  Displacement without preventive evacuations re...   \n",
       "2  Displacement without preventive evacuations re...   \n",
       "3  Displacement without preventive evacuations re...   \n",
       "\n",
       "                    created_at  \\\n",
       "0                #date+created   \n",
       "1  2025-07-10T14:33:49.278023Z   \n",
       "2  2025-06-18T08:22:55.091978Z   \n",
       "3  2025-06-11T13:56:30.798439Z   \n",
       "\n",
       "                                         description  \\\n",
       "0                                       #description   \n",
       "1  Palestine: 45,553 displacements, 18 June - 08 ...   \n",
       "2  Palestine: 15,311 displacements, 12 June - 17 ...   \n",
       "3  Palestine: 24,556 displacements, 04 June - 11 ...   \n",
       "\n",
       "                                                link combined_type  \n",
       "0                                          #meta+url        #cause  \n",
       "1  https://www.cccmcluster.org/where-we-work/occu...      Conflict  \n",
       "2  https://www.cccmcluster.org/sites/default/file...      Conflict  \n",
       "3  https://www.cccmcluster.org/sites/default/file...      Conflict  \n",
       "\n",
       "[4 rows x 36 columns]"
      ]
     },
     "execution_count": 5,
     "metadata": {},
     "output_type": "execute_result"
    }
   ],
   "source": [
    "df.head(4)"
   ]
  },
  {
   "cell_type": "code",
   "execution_count": 6,
   "id": "2411d142-978b-4368-873e-eeb5f5ad9abc",
   "metadata": {},
   "outputs": [
    {
     "data": {
      "text/plain": [
       "locations_coordinates\n",
       "31.43317, 34.37793                                                                       25\n",
       "32.46188, 35.297569                                                                       3\n",
       "31.806061, 35.326118                                                                      3\n",
       "31.707121, 35.206589                                                                      2\n",
       "32.318062, 35.056252; 32.327461, 35.084259                                                2\n",
       "31.46242, 34.27496                                                                        1\n",
       "32.462318, 35.278709; 32.452888, 35.282452; 32.426182, 35.25536                           1\n",
       "31.94697, 35.273869                                                                       1\n",
       "31.86565, 35.457241                                                                       1\n",
       "32.180759, 35.066608                                                                      1\n",
       "31.52466, 34.96537                                                                        1\n",
       "32.327461, 35.084259                                                                      1\n",
       "32.06403, 35.024109                                                                       1\n",
       "31.956129, 35.47105                                                                       1\n",
       "32.184681, 35.4543                                                                        1\n",
       "32.460201, 35.28817; 32.318062, 35.056252; 32.294868, 35.440121; 32.327461, 35.084259     1\n",
       "Name: count, dtype: int64"
      ]
     },
     "execution_count": 6,
     "metadata": {},
     "output_type": "execute_result"
    }
   ],
   "source": [
    "#compter le nombre d'occurence \n",
    "df['locations_coordinates'].value_counts()"
   ]
  },
  {
   "cell_type": "code",
   "execution_count": 8,
   "id": "98abf6d9-dab0-46a5-a532-3891b138e527",
   "metadata": {},
   "outputs": [],
   "source": [
    "# selectionner les colonnes pertinents\n",
    "df = df[['centroid','displacement_date','figure','displacement_start_date','displacement_end_date','event_name']]"
   ]
  },
  {
   "cell_type": "code",
   "execution_count": 10,
   "id": "997f38b7-8b6a-4fdc-abc0-a0706a5cf2b8",
   "metadata": {},
   "outputs": [
    {
     "name": "stdout",
     "output_type": "stream",
     "text": [
      "centroid                   1\n",
      "displacement_date          0\n",
      "figure                     0\n",
      "displacement_start_date    0\n",
      "displacement_end_date      0\n",
      "event_name                 0\n",
      "dtype: int64\n"
     ]
    }
   ],
   "source": [
    "#afficher les colonnes qui ont des valeurs null\n",
    "print(df.isnull().sum())"
   ]
  },
  {
   "cell_type": "code",
   "execution_count": 11,
   "id": "22f05826-de95-46c5-b34f-12fe3711e6c8",
   "metadata": {},
   "outputs": [
    {
     "name": "stdout",
     "output_type": "stream",
     "text": [
      "0\n"
     ]
    }
   ],
   "source": [
    "#afficher les doublons\n",
    "print(df.duplicated().sum())\n"
   ]
  },
  {
   "cell_type": "code",
   "execution_count": 12,
   "id": "be95c080-8856-4e39-bada-630ce27c7834",
   "metadata": {},
   "outputs": [
    {
     "name": "stdout",
     "output_type": "stream",
     "text": [
      "event_name\n",
      "Palestine:  International armed conflict (IAC) (Hostilities Gaza/Israel) - Gaza Strip - 01/01/2025    26\n",
      "Palestine: International armed conflict (IAC) - West Bank - 01/01/2025                                18\n",
      "#event+name                                                                                            1\n",
      "Palestine: Communal violence - Bethlehem - 09/04/2025                                                  1\n",
      "Palestine: Communal violence - West Bank - 27/02/2025                                                  1\n",
      "Name: count, dtype: int64\n"
     ]
    }
   ],
   "source": [
    "print(df['event_name'].value_counts())"
   ]
  },
  {
   "cell_type": "code",
   "execution_count": 13,
   "id": "ba4fe00d-34a5-48b7-9e01-c9d09850873e",
   "metadata": {},
   "outputs": [],
   "source": [
    "#changer le type de donnée en str puis en float\n",
    "df['figure']=df['figure'].astype(str).str.replace(',','').str.strip()"
   ]
  },
  {
   "cell_type": "code",
   "execution_count": 14,
   "id": "f60c750e-bbbf-492b-8a43-8cf86e580bf0",
   "metadata": {},
   "outputs": [],
   "source": [
    "df['figure'] = pd.to_numeric(df['figure'], errors='coerce')"
   ]
  },
  {
   "cell_type": "code",
   "execution_count": 15,
   "id": "c73960a3-1ac9-4345-b4f9-d0d73265f9d6",
   "metadata": {},
   "outputs": [],
   "source": [
    "df = df.dropna(subset=['figure'])"
   ]
  },
  {
   "cell_type": "code",
   "execution_count": 16,
   "id": "f271a776-8b43-4f7c-bd97-78f93b082b8b",
   "metadata": {},
   "outputs": [
    {
     "data": {
      "text/html": [
       "<div>\n",
       "<style scoped>\n",
       "    .dataframe tbody tr th:only-of-type {\n",
       "        vertical-align: middle;\n",
       "    }\n",
       "\n",
       "    .dataframe tbody tr th {\n",
       "        vertical-align: top;\n",
       "    }\n",
       "\n",
       "    .dataframe thead th {\n",
       "        text-align: right;\n",
       "    }\n",
       "</style>\n",
       "<table border=\"1\" class=\"dataframe\">\n",
       "  <thead>\n",
       "    <tr style=\"text-align: right;\">\n",
       "      <th></th>\n",
       "      <th>centroid</th>\n",
       "      <th>displacement_date</th>\n",
       "      <th>figure</th>\n",
       "      <th>displacement_start_date</th>\n",
       "      <th>displacement_end_date</th>\n",
       "      <th>event_name</th>\n",
       "    </tr>\n",
       "  </thead>\n",
       "  <tbody>\n",
       "    <tr>\n",
       "      <th>1</th>\n",
       "      <td>[31.43317, 34.37793]</td>\n",
       "      <td>2025-07-08</td>\n",
       "      <td>45553.0</td>\n",
       "      <td>2025-06-18</td>\n",
       "      <td>2025-07-08</td>\n",
       "      <td>Palestine:  International armed conflict (IAC)...</td>\n",
       "    </tr>\n",
       "    <tr>\n",
       "      <th>2</th>\n",
       "      <td>[31.43317, 34.37793]</td>\n",
       "      <td>2025-06-17</td>\n",
       "      <td>15311.0</td>\n",
       "      <td>2025-06-12</td>\n",
       "      <td>2025-06-17</td>\n",
       "      <td>Palestine:  International armed conflict (IAC)...</td>\n",
       "    </tr>\n",
       "    <tr>\n",
       "      <th>3</th>\n",
       "      <td>[31.43317, 34.37793]</td>\n",
       "      <td>2025-06-11</td>\n",
       "      <td>24556.0</td>\n",
       "      <td>2025-06-04</td>\n",
       "      <td>2025-06-11</td>\n",
       "      <td>Palestine:  International armed conflict (IAC)...</td>\n",
       "    </tr>\n",
       "    <tr>\n",
       "      <th>4</th>\n",
       "      <td>[31.43317, 34.37793]</td>\n",
       "      <td>2025-06-03</td>\n",
       "      <td>7555.0</td>\n",
       "      <td>2025-05-28</td>\n",
       "      <td>2025-06-03</td>\n",
       "      <td>Palestine:  International armed conflict (IAC)...</td>\n",
       "    </tr>\n",
       "  </tbody>\n",
       "</table>\n",
       "</div>"
      ],
      "text/plain": [
       "               centroid displacement_date   figure displacement_start_date  \\\n",
       "1  [31.43317, 34.37793]        2025-07-08  45553.0              2025-06-18   \n",
       "2  [31.43317, 34.37793]        2025-06-17  15311.0              2025-06-12   \n",
       "3  [31.43317, 34.37793]        2025-06-11  24556.0              2025-06-04   \n",
       "4  [31.43317, 34.37793]        2025-06-03   7555.0              2025-05-28   \n",
       "\n",
       "  displacement_end_date                                         event_name  \n",
       "1            2025-07-08  Palestine:  International armed conflict (IAC)...  \n",
       "2            2025-06-17  Palestine:  International armed conflict (IAC)...  \n",
       "3            2025-06-11  Palestine:  International armed conflict (IAC)...  \n",
       "4            2025-06-03  Palestine:  International armed conflict (IAC)...  "
      ]
     },
     "execution_count": 16,
     "metadata": {},
     "output_type": "execute_result"
    }
   ],
   "source": [
    "df.head(4)"
   ]
  },
  {
   "cell_type": "code",
   "execution_count": 17,
   "id": "2b6cbbd9-b12c-4b59-a7a7-cacc3d43e24d",
   "metadata": {},
   "outputs": [],
   "source": [
    "df_grouper = df.groupby('event_name').agg({'figure':['sum']})"
   ]
  },
  {
   "cell_type": "code",
   "execution_count": 18,
   "id": "dcdb01ed-f891-4d1c-bcd4-490f650ff346",
   "metadata": {},
   "outputs": [
    {
     "data": {
      "text/html": [
       "<div>\n",
       "<style scoped>\n",
       "    .dataframe tbody tr th:only-of-type {\n",
       "        vertical-align: middle;\n",
       "    }\n",
       "\n",
       "    .dataframe tbody tr th {\n",
       "        vertical-align: top;\n",
       "    }\n",
       "\n",
       "    .dataframe thead tr th {\n",
       "        text-align: left;\n",
       "    }\n",
       "\n",
       "    .dataframe thead tr:last-of-type th {\n",
       "        text-align: right;\n",
       "    }\n",
       "</style>\n",
       "<table border=\"1\" class=\"dataframe\">\n",
       "  <thead>\n",
       "    <tr>\n",
       "      <th></th>\n",
       "      <th>figure</th>\n",
       "    </tr>\n",
       "    <tr>\n",
       "      <th></th>\n",
       "      <th>sum</th>\n",
       "    </tr>\n",
       "    <tr>\n",
       "      <th>event_name</th>\n",
       "      <th></th>\n",
       "    </tr>\n",
       "  </thead>\n",
       "  <tbody>\n",
       "    <tr>\n",
       "      <th>Palestine:  International armed conflict (IAC) (Hostilities Gaza/Israel) - Gaza Strip - 01/01/2025</th>\n",
       "      <td>867693.0</td>\n",
       "    </tr>\n",
       "    <tr>\n",
       "      <th>Palestine: Communal violence - Bethlehem - 09/04/2025</th>\n",
       "      <td>32.0</td>\n",
       "    </tr>\n",
       "    <tr>\n",
       "      <th>Palestine: Communal violence - West Bank - 27/02/2025</th>\n",
       "      <td>25.0</td>\n",
       "    </tr>\n",
       "    <tr>\n",
       "      <th>Palestine: International armed conflict (IAC) - West Bank - 01/01/2025</th>\n",
       "      <td>54080.0</td>\n",
       "    </tr>\n",
       "  </tbody>\n",
       "</table>\n",
       "</div>"
      ],
      "text/plain": [
       "                                                      figure\n",
       "                                                         sum\n",
       "event_name                                                  \n",
       "Palestine:  International armed conflict (IAC) ...  867693.0\n",
       "Palestine: Communal violence - Bethlehem - 09/0...      32.0\n",
       "Palestine: Communal violence - West Bank - 27/0...      25.0\n",
       "Palestine: International armed conflict (IAC) -...   54080.0"
      ]
     },
     "execution_count": 18,
     "metadata": {},
     "output_type": "execute_result"
    }
   ],
   "source": [
    "df_grouper"
   ]
  },
  {
   "cell_type": "code",
   "execution_count": 19,
   "id": "dbce5546-17cb-45b1-96d3-553fc6508a1f",
   "metadata": {},
   "outputs": [
    {
     "data": {
      "text/plain": [
       "<Axes: title={'center': 'Reépartion'}, ylabel='sum'>"
      ]
     },
     "execution_count": 19,
     "metadata": {},
     "output_type": "execute_result"
    },
    {
     "data": {
      "image/png": "[encoded data removed]",
      "text/plain": [
       "<Figure size 1200x600 with 1 Axes>"
      ]
     },
     "metadata": {},
     "output_type": "display_data"
    }
   ],
   "source": [
    "couleur=['maroon','gray']\n",
    "df_grouper.plot(kind='pie',x='event_name',y='figure',title='Reépartion',figsize=(12,6),legend=False,autopct='%1.1f%%',colors=couleur)"
   ]
  },
  {
   "cell_type": "code",
   "execution_count": 21,
   "id": "4c52c509-e97b-4db6-86f4-5d373d6c583d",
   "metadata": {},
   "outputs": [
    {
     "name": "stderr",
     "output_type": "stream",
     "text": [
      "C:\\Users\\Apprenant_EDC_26\\AppData\\Local\\Temp\\ipykernel_8900\\1013940177.py:1: SettingWithCopyWarning: \n",
      "A value is trying to be set on a copy of a slice from a DataFrame.\n",
      "Try using .loc[row_indexer,col_indexer] = value instead\n",
      "\n",
      "See the caveats in the documentation: https://pandas.pydata.org/pandas-docs/stable/user_guide/indexing.html#returning-a-view-versus-a-copy\n",
      "  df['displacement_date'] = pd.to_datetime(df['displacement_date'], errors='coerce')\n"
     ]
    }
   ],
   "source": [
    "df['displacement_date'] = pd.to_datetime(df['displacement_date'], errors='coerce')"
   ]
  },
  {
   "cell_type": "code",
   "execution_count": 23,
   "id": "7f0a8594-313b-4a03-81ef-de8aee699507",
   "metadata": {},
   "outputs": [],
   "source": [
    "df_groupby_date = df.groupby(df['displacement_date'].dt.month)['figure'].sum()"
   ]
  },
  {
   "cell_type": "code",
   "execution_count": 24,
   "id": "c7668eb0-9d05-48d1-aee1-9c4be1764979",
   "metadata": {},
   "outputs": [
    {
     "name": "stdout",
     "output_type": "stream",
     "text": [
      "displacement_date\n",
      "1     10240.0\n",
      "2     40000.0\n",
      "3    327218.0\n",
      "4    242226.0\n",
      "5    209171.0\n",
      "6     47422.0\n",
      "7     45553.0\n",
      "Name: figure, dtype: float64\n"
     ]
    }
   ],
   "source": [
    "print(df_groupby_date)"
   ]
  },
  {
   "cell_type": "code",
   "execution_count": null,
   "id": "c7acdc6f-0e11-487e-b698-4320d713f1a2",
   "metadata": {},
   "outputs": [],
   "source": []
  }
 ],
 "metadata": {
  "kernelspec": {
   "display_name": "Python 3 (ipykernel)",
   "language": "python",
   "name": "python3"
  },
  "language_info": {
   "codemirror_mode": {
    "name": "ipython",
    "version": 3
   },
   "file_extension": ".py",
   "mimetype": "text/x-python",
   "name": "python",
   "nbconvert_exporter": "python",
   "pygments_lexer": "ipython3",
   "version": "3.12.7"
  }
 },
 "nbformat": 4,
 "nbformat_minor": 5
}
